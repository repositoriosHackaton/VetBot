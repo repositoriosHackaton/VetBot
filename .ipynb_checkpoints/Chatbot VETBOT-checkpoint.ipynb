{
 "cells": [
  {
   "cell_type": "code",
   "execution_count": 31,
   "id": "4976077d",
   "metadata": {},
   "outputs": [],
   "source": [
    "import random #proporciona funciones para generar números aleatorios y realizar operaciones aleatorias\n",
    "import json #permite trabajar con datos en formato JSON\n",
    "import pickle #permite serializar y deserializar objetos de Python.\n",
    "import numpy as np #Proporciona soporte para arreglos y matrices \n"
   ]
  },
  {
   "cell_type": "code",
   "execution_count": 32,
   "id": "ac82716b",
   "metadata": {},
   "outputs": [],
   "source": [
    "import nltk #biblioteca en Python para trabajar con datos de lenguaje natural\n",
    "from nltk.stem import WordNetLemmatizer #proceso de convertir una palabra a su forma base o lema"
   ]
  },
  {
   "cell_type": "code",
   "execution_count": 33,
   "id": "637bc315",
   "metadata": {},
   "outputs": [],
   "source": [
    "# Para crear la red neuronal\n",
    "from keras.models import Sequential # Importa la clase Sequential de Keras, usada para crear un modelo secuencial de red neuronal\n",
    "from keras.layers import Dense, Activation, Dropout, Input # Importa las capas Dense, Activation, Dropout e Input de Keras\n",
    "from keras.optimizers import SGD # Importa el optimizador Stochastic Gradient Descent (SGD) de Keras\n",
    "from keras.callbacks import EarlyStopping # Importa la función de detención temprana (EarlyStopping) de Keras\n",
    "from sklearn.model_selection import train_test_split # Importa la función train_test_split de Scikit-learn para dividir los datos en entrenamiento y prueba\n",
    "lemmatizer = WordNetLemmatizer() # Crea una instancia del lematizador de WordNet de nltk para normalizar palabras"
   ]
  },
  {
   "cell_type": "code",
   "execution_count": 34,
   "id": "a838b0f9",
   "metadata": {},
   "outputs": [],
   "source": [
    "# Cargar el archivo JSON modificado\n",
    "intents = json.loads(open('intents_veterinaria_sin_tildes.json').read())"
   ]
  },
  {
   "cell_type": "code",
   "execution_count": 35,
   "id": "5b2d25a3",
   "metadata": {},
   "outputs": [
    {
     "name": "stderr",
     "output_type": "stream",
     "text": [
      "[nltk_data] Downloading package punkt to\n",
      "[nltk_data]     C:\\Users\\cquij\\AppData\\Roaming\\nltk_data...\n",
      "[nltk_data]   Package punkt is already up-to-date!\n",
      "[nltk_data] Downloading package wordnet to\n",
      "[nltk_data]     C:\\Users\\cquij\\AppData\\Roaming\\nltk_data...\n",
      "[nltk_data]   Package wordnet is already up-to-date!\n",
      "[nltk_data] Downloading package omw-1.4 to\n",
      "[nltk_data]     C:\\Users\\cquij\\AppData\\Roaming\\nltk_data...\n",
      "[nltk_data]   Package omw-1.4 is already up-to-date!\n"
     ]
    },
    {
     "data": {
      "text/plain": [
       "True"
      ]
     },
     "execution_count": 35,
     "metadata": {},
     "output_type": "execute_result"
    }
   ],
   "source": [
    "# Descargar paquetes necesarios de NLTK\n",
    "nltk.download('punkt') # Descarga datos necesarios para la tokenización de NLTK\n",
    "nltk.download('wordnet') # Descarga el diccionario WordNet necesario para la lematización de NLTK\n",
    "nltk.download('omw-1.4') # Descarga recursos adicionales para la lematización multilingüe de NLTK"
   ]
  },
  {
   "cell_type": "code",
   "execution_count": 36,
   "id": "2e0bc3b8",
   "metadata": {},
   "outputs": [],
   "source": [
    "# Clasifica los patrones y las categorías\n",
    "words = []\n",
    "classes = []\n",
    "documents = []\n",
    "ignore_letters = ['?', '!', '¿', '.', ',']"
   ]
  },
  {
   "cell_type": "code",
   "execution_count": 37,
   "id": "81553181",
   "metadata": {},
   "outputs": [],
   "source": [
    "# Clasifica los patrones y las categorías\n",
    "for intent in intents['intents']:\n",
    "    for pattern in intent['patterns']:\n",
    "        word_list = nltk.word_tokenize(pattern) # Tokeniza el patrón actual en una lista de palabras\n",
    "        words.extend(word_list) # Agrega las palabras tokenizadas a la lista global `words`\n",
    "        documents.append((word_list, intent[\"tag\"])) # Añade una tupla con el patrón y su etiqueta a `documents`\n",
    "        if intent[\"tag\"] not in classes:\n",
    "            classes.append(intent[\"tag\"]) # Añade la etiqueta a `classes` si no está presente\n",
    "\n",
    "words = [lemmatizer.lemmatize(word) for word in words if word not in ignore_letters] # Lematiza las palabras en `words`, excluyendo caracteres ignorados\n",
    "words = sorted(set(words)) # Convierte `words` en un conjunto para eliminar duplicados y luego lo ordena alfabéticamente\n"
   ]
  },
  {
   "cell_type": "code",
   "execution_count": null,
   "id": "e25bfa38",
   "metadata": {},
   "outputs": [],
   "source": []
  },
  {
   "cell_type": "code",
   "execution_count": 38,
   "id": "c29487b7",
   "metadata": {},
   "outputs": [],
   "source": [
    "pickle.dump(words, open('words.pkl', 'wb')) # Guarda la lista de palabras en un archivo 'words.pkl' utilizando pickle\n",
    "pickle.dump(classes, open('classes.pkl', 'wb')) # Guarda la lista de clases en un archivo 'classes.pkl' utilizando pickle"
   ]
  },
  {
   "cell_type": "code",
   "execution_count": null,
   "id": "75eb11ab",
   "metadata": {},
   "outputs": [],
   "source": []
  },
  {
   "cell_type": "code",
   "execution_count": 39,
   "id": "fb655d63",
   "metadata": {},
   "outputs": [],
   "source": [
    "# Pasa la información a unos y ceros según las palabras presentes en cada categoría para hacer el entrenamiento\n",
    "training = [] # Lista vacía para almacenar los datos de entrenamiento\n",
    "output_empty = [0] * len(classes) # Lista de ceros inicializada con la longitud de la lista de clases\n",
    "for document in documents:\n",
    "    bag = [] # Lista para representar la bolsa de palabras de cada documento\n",
    "    word_patterns = document[0] # Patrones de palabras del documento actual\n",
    "    word_patterns = [lemmatizer.lemmatize(word.lower()) for word in word_patterns] # Lematiza y convierte a minúsculas las palabras del patrón\n",
    "    for word in words: \n",
    "        bag.append(1) if word in word_patterns else bag.append(0) # Si la palabra está presente en el patrón, agrega 1 o 0 a la bolsa (one-hot encoding)\n",
    "    output_row = list(output_empty) # Crea una copia de la lista de ceros para representar la salida deseada\n",
    "    output_row[classes.index(document[1])] = 1  # Establece el índice correspondiente a la clase del documento en 1 (one-hot encoding)\n",
    "    training.append([bag, output_row])  # Agrega la bolsa de palabras y la salida deseada como una entrada de entrenamiento\n"
   ]
  },
  {
   "cell_type": "code",
   "execution_count": 40,
   "id": "720b3133",
   "metadata": {},
   "outputs": [
    {
     "name": "stdout",
     "output_type": "stream",
     "text": [
      "35\n"
     ]
    }
   ],
   "source": [
    "random.shuffle(training)\n",
    "print(len(training))  # Muestra la cantidad de patrones de entrenamiento"
   ]
  },
  {
   "cell_type": "code",
   "execution_count": 41,
   "id": "270abbbd",
   "metadata": {},
   "outputs": [],
   "source": [
    "train_x = []\n",
    "train_y = [] \n",
    "# Itera sobre los datos de entrenamiento para extraer las características (train_x) y las etiquetas (train_y)\n",
    "for i in training: \n",
    "    train_x.append(i[0]) # Añade la bolsa de palabras (características) a train_x\n",
    "    train_y.append(i[1]) # Añade el vector de salida (etiqueta) a train_y\n",
    "\n",
    "train_x = np.array(train_x) # Convierte train_x a un arreglo numpy\n",
    "train_y = np.array(train_y) # Convierte train_y a un arreglo numpy"
   ]
  },
  {
   "cell_type": "code",
   "execution_count": null,
   "id": "c6a654c0",
   "metadata": {},
   "outputs": [],
   "source": []
  },
  {
   "cell_type": "code",
   "execution_count": 42,
   "id": "37aac51b",
   "metadata": {},
   "outputs": [],
   "source": [
    "# Creamos la red neuronal\n",
    "model = Sequential() # Inicializa un modelo secuencial\n",
    "model.add(Input(shape=(len(train_x[0]),), name=\"input_layer\")) # Añade la capa de entrada especificando el tamaño de entrada\n",
    "model.add(Dense(128, activation='relu', name=\"hidden_layer1\")) # Añade la primera capa oculta con 128 neuronas y activación ReLU\n",
    "model.add(Dropout(0.5, name=\"dropout_layer1\")) # Añade una capa de dropout para regularización\n",
    "model.add(Dense(64, activation='relu', name=\"hidden_layer2\")) # Añade la segunda capa oculta con 64 neuronas y activación ReLU\n",
    "model.add(Dropout(0.5, name=\"dropout_layer2\")) # Añade otra capa de dropout para regularización\n",
    "model.add(Dense(len(train_y[0]), activation='softmax', name=\"output_layer\")) # Añade la capa de salida con activación softmax para clasificación multiclase"
   ]
  },
  {
   "cell_type": "code",
   "execution_count": null,
   "id": "5fd6b24a",
   "metadata": {},
   "outputs": [],
   "source": []
  },
  {
   "cell_type": "code",
   "execution_count": 43,
   "id": "622f2f9c",
   "metadata": {},
   "outputs": [],
   "source": [
    "# Creamos el optimizador y lo compilamos\n",
    "# learning_rate=0.001 controla el tamaño de los pasos que se dan en dirección opuesta al gradiente para minimizar la pérdida.\n",
    "# momentum=0.9: Factor de momentum, que ayuda a acelerar la convergencia y a evitar mínimos locales.\n",
    "sgd = SGD(learning_rate=0.001, momentum=0.9, nesterov=True) # Crea un optimizador SGD con los parámetros especificados\n",
    "model.compile(loss='categorical_crossentropy', optimizer=sgd, metrics=['accuracy'])"
   ]
  },
  {
   "cell_type": "code",
   "execution_count": 52,
   "id": "6dec2954",
   "metadata": {},
   "outputs": [
    {
     "name": "stdout",
     "output_type": "stream",
     "text": [
      "Epoch 1/100\n",
      "\u001b[1m3/3\u001b[0m \u001b[32m━━━━━━━━━━━━━━━━━━━━\u001b[0m\u001b[37m\u001b[0m \u001b[1m0s\u001b[0m 6ms/step - accuracy: 0.8804 - loss: 0.2991 \n",
      "Epoch 2/100\n",
      "\u001b[1m3/3\u001b[0m \u001b[32m━━━━━━━━━━━━━━━━━━━━\u001b[0m\u001b[37m\u001b[0m \u001b[1m0s\u001b[0m 2ms/step - accuracy: 0.9025 - loss: 0.3697 \n",
      "Epoch 3/100\n",
      "\u001b[1m3/3\u001b[0m \u001b[32m━━━━━━━━━━━━━━━━━━━━\u001b[0m\u001b[37m\u001b[0m \u001b[1m0s\u001b[0m 0s/step - accuracy: 1.0000 - loss: 0.2390  \n",
      "Epoch 4/100\n",
      "\u001b[1m3/3\u001b[0m \u001b[32m━━━━━━━━━━━━━━━━━━━━\u001b[0m\u001b[37m\u001b[0m \u001b[1m0s\u001b[0m 0s/step - accuracy: 0.8205 - loss: 0.3622  \n",
      "Epoch 5/100\n",
      "\u001b[1m3/3\u001b[0m \u001b[32m━━━━━━━━━━━━━━━━━━━━\u001b[0m\u001b[37m\u001b[0m \u001b[1m0s\u001b[0m 8ms/step - accuracy: 0.8804 - loss: 0.3647 \n",
      "Epoch 6/100\n",
      "\u001b[1m3/3\u001b[0m \u001b[32m━━━━━━━━━━━━━━━━━━━━\u001b[0m\u001b[37m\u001b[0m \u001b[1m0s\u001b[0m 8ms/step - accuracy: 0.9402 - loss: 0.2966 \n",
      "Epoch 7/100\n",
      "\u001b[1m3/3\u001b[0m \u001b[32m━━━━━━━━━━━━━━━━━━━━\u001b[0m\u001b[37m\u001b[0m \u001b[1m0s\u001b[0m 0s/step - accuracy: 0.9558 - loss: 0.3846  \n",
      "Epoch 8/100\n",
      "\u001b[1m3/3\u001b[0m \u001b[32m━━━━━━━━━━━━━━━━━━━━\u001b[0m\u001b[37m\u001b[0m \u001b[1m0s\u001b[0m 0s/step - accuracy: 0.9779 - loss: 0.1810  \n",
      "Epoch 9/100\n",
      "\u001b[1m3/3\u001b[0m \u001b[32m━━━━━━━━━━━━━━━━━━━━\u001b[0m\u001b[37m\u001b[0m \u001b[1m0s\u001b[0m 4ms/step - accuracy: 0.8895 - loss: 0.2853 \n",
      "Epoch 10/100\n",
      "\u001b[1m3/3\u001b[0m \u001b[32m━━━━━━━━━━━━━━━━━━━━\u001b[0m\u001b[37m\u001b[0m \u001b[1m0s\u001b[0m 0s/step - accuracy: 0.8882 - loss: 0.3328  \n",
      "Epoch 11/100\n",
      "\u001b[1m3/3\u001b[0m \u001b[32m━━━━━━━━━━━━━━━━━━━━\u001b[0m\u001b[37m\u001b[0m \u001b[1m0s\u001b[0m 0s/step - accuracy: 0.9259 - loss: 0.2302  \n",
      "Epoch 12/100\n",
      "\u001b[1m3/3\u001b[0m \u001b[32m━━━━━━━━━━━━━━━━━━━━\u001b[0m\u001b[37m\u001b[0m \u001b[1m0s\u001b[0m 4ms/step - accuracy: 0.9623 - loss: 0.2624 \n",
      "Epoch 13/100\n",
      "\u001b[1m3/3\u001b[0m \u001b[32m━━━━━━━━━━━━━━━━━━━━\u001b[0m\u001b[37m\u001b[0m \u001b[1m0s\u001b[0m 0s/step - accuracy: 0.9480 - loss: 0.3036  \n",
      "Epoch 14/100\n",
      "\u001b[1m3/3\u001b[0m \u001b[32m━━━━━━━━━━━━━━━━━━━━\u001b[0m\u001b[37m\u001b[0m \u001b[1m0s\u001b[0m 0s/step - accuracy: 0.9181 - loss: 0.2894  \n",
      "Epoch 15/100\n",
      "\u001b[1m3/3\u001b[0m \u001b[32m━━━━━━━━━━━━━━━━━━━━\u001b[0m\u001b[37m\u001b[0m \u001b[1m0s\u001b[0m 8ms/step - accuracy: 0.9415 - loss: 0.2433 \n",
      "Epoch 16/100\n",
      "\u001b[1m3/3\u001b[0m \u001b[32m━━━━━━━━━━━━━━━━━━━━\u001b[0m\u001b[37m\u001b[0m \u001b[1m0s\u001b[0m 0s/step - accuracy: 0.9025 - loss: 0.2714  \n",
      "Epoch 17/100\n",
      "\u001b[1m3/3\u001b[0m \u001b[32m━━━━━━━━━━━━━━━━━━━━\u001b[0m\u001b[37m\u001b[0m \u001b[1m0s\u001b[0m 0s/step - accuracy: 0.9779 - loss: 0.2229  \n",
      "Epoch 18/100\n",
      "\u001b[1m3/3\u001b[0m \u001b[32m━━━━━━━━━━━━━━━━━━━━\u001b[0m\u001b[37m\u001b[0m \u001b[1m0s\u001b[0m 8ms/step - accuracy: 0.9402 - loss: 0.3237 \n",
      "Epoch 19/100\n",
      "\u001b[1m3/3\u001b[0m \u001b[32m━━━━━━━━━━━━━━━━━━━━\u001b[0m\u001b[37m\u001b[0m \u001b[1m0s\u001b[0m 0s/step - accuracy: 0.9623 - loss: 0.3178  \n",
      "Epoch 20/100\n",
      "\u001b[1m3/3\u001b[0m \u001b[32m━━━━━━━━━━━━━━━━━━━━\u001b[0m\u001b[37m\u001b[0m \u001b[1m0s\u001b[0m 0s/step - accuracy: 0.9558 - loss: 0.3100  \n",
      "Epoch 21/100\n",
      "\u001b[1m3/3\u001b[0m \u001b[32m━━━━━━━━━━━━━━━━━━━━\u001b[0m\u001b[37m\u001b[0m \u001b[1m0s\u001b[0m 0s/step - accuracy: 0.9181 - loss: 0.3245  \n",
      "Epoch 22/100\n",
      "\u001b[1m3/3\u001b[0m \u001b[32m━━━━━━━━━━━━━━━━━━━━\u001b[0m\u001b[37m\u001b[0m \u001b[1m0s\u001b[0m 7ms/step - accuracy: 0.9025 - loss: 0.4296 \n",
      "Epoch 23/100\n",
      "\u001b[1m3/3\u001b[0m \u001b[32m━━━━━━━━━━━━━━━━━━━━\u001b[0m\u001b[37m\u001b[0m \u001b[1m0s\u001b[0m 4ms/step - accuracy: 0.8752 - loss: 0.3436 \n",
      "Epoch 24/100\n",
      "\u001b[1m3/3\u001b[0m \u001b[32m━━━━━━━━━━━━━━━━━━━━\u001b[0m\u001b[37m\u001b[0m \u001b[1m0s\u001b[0m 0s/step - accuracy: 0.9636 - loss: 0.3194  \n",
      "Epoch 25/100\n",
      "\u001b[1m3/3\u001b[0m \u001b[32m━━━━━━━━━━━━━━━━━━━━\u001b[0m\u001b[37m\u001b[0m \u001b[1m0s\u001b[0m 8ms/step - accuracy: 0.9558 - loss: 0.2598 \n",
      "Epoch 26/100\n",
      "\u001b[1m3/3\u001b[0m \u001b[32m━━━━━━━━━━━━━━━━━━━━\u001b[0m\u001b[37m\u001b[0m \u001b[1m0s\u001b[0m 0s/step - accuracy: 0.9194 - loss: 0.3517  \n",
      "Epoch 27/100\n",
      "\u001b[1m3/3\u001b[0m \u001b[32m━━━━━━━━━━━━━━━━━━━━\u001b[0m\u001b[37m\u001b[0m \u001b[1m0s\u001b[0m 8ms/step - accuracy: 0.9025 - loss: 0.2503 \n",
      "Epoch 28/100\n",
      "\u001b[1m3/3\u001b[0m \u001b[32m━━━━━━━━━━━━━━━━━━━━\u001b[0m\u001b[37m\u001b[0m \u001b[1m0s\u001b[0m 0s/step - accuracy: 0.9259 - loss: 0.3172  \n",
      "Epoch 29/100\n",
      "\u001b[1m3/3\u001b[0m \u001b[32m━━━━━━━━━━━━━━━━━━━━\u001b[0m\u001b[37m\u001b[0m \u001b[1m0s\u001b[0m 8ms/step - accuracy: 0.8426 - loss: 0.3945 \n",
      "Epoch 30/100\n",
      "\u001b[1m3/3\u001b[0m \u001b[32m━━━━━━━━━━━━━━━━━━━━\u001b[0m\u001b[37m\u001b[0m \u001b[1m0s\u001b[0m 8ms/step - accuracy: 0.9402 - loss: 0.2416 \n",
      "Epoch 31/100\n",
      "\u001b[1m3/3\u001b[0m \u001b[32m━━━━━━━━━━━━━━━━━━━━\u001b[0m\u001b[37m\u001b[0m \u001b[1m0s\u001b[0m 8ms/step - accuracy: 0.8739 - loss: 0.2652 \n",
      "Epoch 32/100\n",
      "\u001b[1m3/3\u001b[0m \u001b[32m━━━━━━━━━━━━━━━━━━━━\u001b[0m\u001b[37m\u001b[0m \u001b[1m0s\u001b[0m 8ms/step - accuracy: 0.9181 - loss: 0.2770 \n",
      "Epoch 33/100\n",
      "\u001b[1m3/3\u001b[0m \u001b[32m━━━━━━━━━━━━━━━━━━━━\u001b[0m\u001b[37m\u001b[0m \u001b[1m0s\u001b[0m 4ms/step - accuracy: 0.8661 - loss: 0.3510 \n",
      "Epoch 34/100\n",
      "\u001b[1m3/3\u001b[0m \u001b[32m━━━━━━━━━━━━━━━━━━━━\u001b[0m\u001b[37m\u001b[0m \u001b[1m0s\u001b[0m 0s/step - accuracy: 0.9337 - loss: 0.3076  \n",
      "Epoch 35/100\n",
      "\u001b[1m3/3\u001b[0m \u001b[32m━━━━━━━━━━━━━━━━━━━━\u001b[0m\u001b[37m\u001b[0m \u001b[1m0s\u001b[0m 0s/step - accuracy: 0.9402 - loss: 0.3139  \n",
      "Epoch 36/100\n",
      "\u001b[1m3/3\u001b[0m \u001b[32m━━━━━━━━━━━━━━━━━━━━\u001b[0m\u001b[37m\u001b[0m \u001b[1m0s\u001b[0m 8ms/step - accuracy: 0.9025 - loss: 0.3390 \n",
      "Epoch 37/100\n",
      "\u001b[1m3/3\u001b[0m \u001b[32m━━━━━━━━━━━━━━━━━━━━\u001b[0m\u001b[37m\u001b[0m \u001b[1m0s\u001b[0m 0s/step - accuracy: 0.9480 - loss: 0.2702  \n",
      "Epoch 38/100\n",
      "\u001b[1m3/3\u001b[0m \u001b[32m━━━━━━━━━━━━━━━━━━━━\u001b[0m\u001b[37m\u001b[0m \u001b[1m0s\u001b[0m 8ms/step - accuracy: 0.7984 - loss: 0.4584 \n",
      "Epoch 39/100\n",
      "\u001b[1m3/3\u001b[0m \u001b[32m━━━━━━━━━━━━━━━━━━━━\u001b[0m\u001b[37m\u001b[0m \u001b[1m0s\u001b[0m 0s/step - accuracy: 1.0000 - loss: 0.2263  \n",
      "Epoch 40/100\n",
      "\u001b[1m3/3\u001b[0m \u001b[32m━━━━━━━━━━━━━━━━━━━━\u001b[0m\u001b[37m\u001b[0m \u001b[1m0s\u001b[0m 3ms/step - accuracy: 0.9025 - loss: 0.3615 \n",
      "Epoch 41/100\n",
      "\u001b[1m3/3\u001b[0m \u001b[32m━━━━━━━━━━━━━━━━━━━━\u001b[0m\u001b[37m\u001b[0m \u001b[1m0s\u001b[0m 4ms/step - accuracy: 0.8647 - loss: 0.3791 \n",
      "Epoch 42/100\n",
      "\u001b[1m3/3\u001b[0m \u001b[32m━━━━━━━━━━━━━━━━━━━━\u001b[0m\u001b[37m\u001b[0m \u001b[1m0s\u001b[0m 0s/step - accuracy: 0.9181 - loss: 0.3295  \n",
      "Epoch 43/100\n",
      "\u001b[1m3/3\u001b[0m \u001b[32m━━━━━━━━━━━━━━━━━━━━\u001b[0m\u001b[37m\u001b[0m \u001b[1m0s\u001b[0m 0s/step - accuracy: 0.9623 - loss: 0.2334  \n",
      "Epoch 44/100\n",
      "\u001b[1m3/3\u001b[0m \u001b[32m━━━━━━━━━━━━━━━━━━━━\u001b[0m\u001b[37m\u001b[0m \u001b[1m0s\u001b[0m 0s/step - accuracy: 0.9558 - loss: 0.3136  \n",
      "Epoch 45/100\n",
      "\u001b[1m3/3\u001b[0m \u001b[32m━━━━━━━━━━━━━━━━━━━━\u001b[0m\u001b[37m\u001b[0m \u001b[1m0s\u001b[0m 0s/step - accuracy: 0.8426 - loss: 0.3624  \n",
      "Epoch 46/100\n",
      "\u001b[1m3/3\u001b[0m \u001b[32m━━━━━━━━━━━━━━━━━━━━\u001b[0m\u001b[37m\u001b[0m \u001b[1m0s\u001b[0m 8ms/step - accuracy: 0.8804 - loss: 0.3114 \n",
      "Epoch 47/100\n",
      "\u001b[1m3/3\u001b[0m \u001b[32m━━━━━━━━━━━━━━━━━━━━\u001b[0m\u001b[37m\u001b[0m \u001b[1m0s\u001b[0m 4ms/step - accuracy: 0.9415 - loss: 0.2632 \n",
      "Epoch 48/100\n",
      "\u001b[1m3/3\u001b[0m \u001b[32m━━━━━━━━━━━━━━━━━━━━\u001b[0m\u001b[37m\u001b[0m \u001b[1m0s\u001b[0m 8ms/step - accuracy: 1.0000 - loss: 0.2106 \n",
      "Epoch 49/100\n",
      "\u001b[1m3/3\u001b[0m \u001b[32m━━━━━━━━━━━━━━━━━━━━\u001b[0m\u001b[37m\u001b[0m \u001b[1m0s\u001b[0m 0s/step - accuracy: 0.9402 - loss: 0.3078  \n",
      "Epoch 50/100\n",
      "\u001b[1m3/3\u001b[0m \u001b[32m━━━━━━━━━━━━━━━━━━━━\u001b[0m\u001b[37m\u001b[0m \u001b[1m0s\u001b[0m 8ms/step - accuracy: 0.9480 - loss: 0.2564 \n",
      "Epoch 51/100\n",
      "\u001b[1m3/3\u001b[0m \u001b[32m━━━━━━━━━━━━━━━━━━━━\u001b[0m\u001b[37m\u001b[0m \u001b[1m0s\u001b[0m 8ms/step - accuracy: 0.9558 - loss: 0.2765 \n",
      "Epoch 52/100\n",
      "\u001b[1m3/3\u001b[0m \u001b[32m━━━━━━━━━━━━━━━━━━━━\u001b[0m\u001b[37m\u001b[0m \u001b[1m0s\u001b[0m 0s/step - accuracy: 0.9259 - loss: 0.3034  \n",
      "Epoch 53/100\n",
      "\u001b[1m3/3\u001b[0m \u001b[32m━━━━━━━━━━━━━━━━━━━━\u001b[0m\u001b[37m\u001b[0m \u001b[1m0s\u001b[0m 4ms/step - accuracy: 0.8504 - loss: 0.4138 \n",
      "Epoch 54/100\n",
      "\u001b[1m3/3\u001b[0m \u001b[32m━━━━━━━━━━━━━━━━━━━━\u001b[0m\u001b[37m\u001b[0m \u001b[1m0s\u001b[0m 7ms/step - accuracy: 0.9402 - loss: 0.2866 \n",
      "Epoch 55/100\n",
      "\u001b[1m3/3\u001b[0m \u001b[32m━━━━━━━━━━━━━━━━━━━━\u001b[0m\u001b[37m\u001b[0m \u001b[1m0s\u001b[0m 6ms/step - accuracy: 0.9623 - loss: 0.2964 \n",
      "Epoch 56/100\n",
      "\u001b[1m3/3\u001b[0m \u001b[32m━━━━━━━━━━━━━━━━━━━━\u001b[0m\u001b[37m\u001b[0m \u001b[1m0s\u001b[0m 8ms/step - accuracy: 0.9402 - loss: 0.2078 \n",
      "Epoch 57/100\n",
      "\u001b[1m3/3\u001b[0m \u001b[32m━━━━━━━━━━━━━━━━━━━━\u001b[0m\u001b[37m\u001b[0m \u001b[1m0s\u001b[0m 8ms/step - accuracy: 0.9558 - loss: 0.2748 \n",
      "Epoch 58/100\n",
      "\u001b[1m3/3\u001b[0m \u001b[32m━━━━━━━━━━━━━━━━━━━━\u001b[0m\u001b[37m\u001b[0m \u001b[1m0s\u001b[0m 0s/step - accuracy: 0.9623 - loss: 0.3465  \n",
      "Epoch 59/100\n",
      "\u001b[1m3/3\u001b[0m \u001b[32m━━━━━━━━━━━━━━━━━━━━\u001b[0m\u001b[37m\u001b[0m \u001b[1m0s\u001b[0m 0s/step - accuracy: 0.9181 - loss: 0.2445  \n",
      "Epoch 60/100\n",
      "\u001b[1m3/3\u001b[0m \u001b[32m━━━━━━━━━━━━━━━━━━━━\u001b[0m\u001b[37m\u001b[0m \u001b[1m0s\u001b[0m 8ms/step - accuracy: 0.9779 - loss: 0.2598 \n",
      "Epoch 61/100\n",
      "\u001b[1m3/3\u001b[0m \u001b[32m━━━━━━━━━━━━━━━━━━━━\u001b[0m\u001b[37m\u001b[0m \u001b[1m0s\u001b[0m 0s/step - accuracy: 0.8804 - loss: 0.2902  \n",
      "Epoch 62/100\n",
      "\u001b[1m3/3\u001b[0m \u001b[32m━━━━━━━━━━━━━━━━━━━━\u001b[0m\u001b[37m\u001b[0m \u001b[1m0s\u001b[0m 4ms/step - accuracy: 0.9103 - loss: 0.2706 \n",
      "Epoch 63/100\n",
      "\u001b[1m3/3\u001b[0m \u001b[32m━━━━━━━━━━━━━━━━━━━━\u001b[0m\u001b[37m\u001b[0m \u001b[1m0s\u001b[0m 3ms/step - accuracy: 0.9558 - loss: 0.3637 \n",
      "Epoch 64/100\n",
      "\u001b[1m3/3\u001b[0m \u001b[32m━━━━━━━━━━━━━━━━━━━━\u001b[0m\u001b[37m\u001b[0m \u001b[1m0s\u001b[0m 4ms/step - accuracy: 0.9623 - loss: 0.2749 \n",
      "Epoch 65/100\n",
      "\u001b[1m3/3\u001b[0m \u001b[32m━━━━━━━━━━━━━━━━━━━━\u001b[0m\u001b[37m\u001b[0m \u001b[1m0s\u001b[0m 0s/step - accuracy: 0.8661 - loss: 0.4277  \n",
      "Epoch 66/100\n",
      "\u001b[1m3/3\u001b[0m \u001b[32m━━━━━━━━━━━━━━━━━━━━\u001b[0m\u001b[37m\u001b[0m \u001b[1m0s\u001b[0m 8ms/step - accuracy: 0.9623 - loss: 0.2439 \n",
      "Epoch 67/100\n",
      "\u001b[1m3/3\u001b[0m \u001b[32m━━━━━━━━━━━━━━━━━━━━\u001b[0m\u001b[37m\u001b[0m \u001b[1m0s\u001b[0m 0s/step - accuracy: 0.9259 - loss: 0.2779  \n",
      "Epoch 68/100\n",
      "\u001b[1m3/3\u001b[0m \u001b[32m━━━━━━━━━━━━━━━━━━━━\u001b[0m\u001b[37m\u001b[0m \u001b[1m0s\u001b[0m 0s/step - accuracy: 0.9402 - loss: 0.2139  \n",
      "Epoch 69/100\n"
     ]
    },
    {
     "name": "stdout",
     "output_type": "stream",
     "text": [
      "\u001b[1m3/3\u001b[0m \u001b[32m━━━━━━━━━━━━━━━━━━━━\u001b[0m\u001b[37m\u001b[0m \u001b[1m0s\u001b[0m 0s/step - accuracy: 0.9558 - loss: 0.2610  \n",
      "Epoch 70/100\n",
      "\u001b[1m3/3\u001b[0m \u001b[32m━━━━━━━━━━━━━━━━━━━━\u001b[0m\u001b[37m\u001b[0m \u001b[1m0s\u001b[0m 8ms/step - accuracy: 0.9415 - loss: 0.2729 \n",
      "Epoch 71/100\n",
      "\u001b[1m3/3\u001b[0m \u001b[32m━━━━━━━━━━━━━━━━━━━━\u001b[0m\u001b[37m\u001b[0m \u001b[1m0s\u001b[0m 8ms/step - accuracy: 0.9402 - loss: 0.3054 \n",
      "Epoch 72/100\n",
      "\u001b[1m3/3\u001b[0m \u001b[32m━━━━━━━━━━━━━━━━━━━━\u001b[0m\u001b[37m\u001b[0m \u001b[1m0s\u001b[0m 3ms/step - accuracy: 0.9779 - loss: 0.2688 \n",
      "Epoch 73/100\n",
      "\u001b[1m3/3\u001b[0m \u001b[32m━━━━━━━━━━━━━━━━━━━━\u001b[0m\u001b[37m\u001b[0m \u001b[1m0s\u001b[0m 3ms/step - accuracy: 0.8960 - loss: 0.3115 \n",
      "Epoch 74/100\n",
      "\u001b[1m3/3\u001b[0m \u001b[32m━━━━━━━━━━━━━━━━━━━━\u001b[0m\u001b[37m\u001b[0m \u001b[1m0s\u001b[0m 4ms/step - accuracy: 0.8960 - loss: 0.3614 \n",
      "Epoch 75/100\n",
      "\u001b[1m3/3\u001b[0m \u001b[32m━━━━━━━━━━━━━━━━━━━━\u001b[0m\u001b[37m\u001b[0m \u001b[1m0s\u001b[0m 8ms/step - accuracy: 0.8973 - loss: 0.2777 \n",
      "Epoch 76/100\n",
      "\u001b[1m3/3\u001b[0m \u001b[32m━━━━━━━━━━━━━━━━━━━━\u001b[0m\u001b[37m\u001b[0m \u001b[1m0s\u001b[0m 2ms/step - accuracy: 0.9402 - loss: 0.3065 \n",
      "Epoch 77/100\n",
      "\u001b[1m3/3\u001b[0m \u001b[32m━━━━━━━━━━━━━━━━━━━━\u001b[0m\u001b[37m\u001b[0m \u001b[1m0s\u001b[0m 8ms/step - accuracy: 0.8804 - loss: 0.3594 \n",
      "Epoch 78/100\n",
      "\u001b[1m3/3\u001b[0m \u001b[32m━━━━━━━━━━━━━━━━━━━━\u001b[0m\u001b[37m\u001b[0m \u001b[1m0s\u001b[0m 0s/step - accuracy: 0.9402 - loss: 0.3003  \n",
      "Epoch 79/100\n",
      "\u001b[1m3/3\u001b[0m \u001b[32m━━━━━━━━━━━━━━━━━━━━\u001b[0m\u001b[37m\u001b[0m \u001b[1m0s\u001b[0m 8ms/step - accuracy: 0.9623 - loss: 0.2244 \n",
      "Epoch 80/100\n",
      "\u001b[1m3/3\u001b[0m \u001b[32m━━━━━━━━━━━━━━━━━━━━\u001b[0m\u001b[37m\u001b[0m \u001b[1m0s\u001b[0m 8ms/step - accuracy: 0.9415 - loss: 0.2059 \n",
      "Epoch 81/100\n",
      "\u001b[1m3/3\u001b[0m \u001b[32m━━━━━━━━━━━━━━━━━━━━\u001b[0m\u001b[37m\u001b[0m \u001b[1m0s\u001b[0m 0s/step - accuracy: 0.9259 - loss: 0.2865  \n",
      "Epoch 82/100\n",
      "\u001b[1m3/3\u001b[0m \u001b[32m━━━━━━━━━━━━━━━━━━━━\u001b[0m\u001b[37m\u001b[0m \u001b[1m0s\u001b[0m 0s/step - accuracy: 0.9623 - loss: 0.2803  \n",
      "Epoch 83/100\n",
      "\u001b[1m3/3\u001b[0m \u001b[32m━━━━━━━━━━━━━━━━━━━━\u001b[0m\u001b[37m\u001b[0m \u001b[1m0s\u001b[0m 0s/step - accuracy: 0.8882 - loss: 0.3128  \n",
      "Epoch 84/100\n",
      "\u001b[1m3/3\u001b[0m \u001b[32m━━━━━━━━━━━━━━━━━━━━\u001b[0m\u001b[37m\u001b[0m \u001b[1m0s\u001b[0m 0s/step - accuracy: 0.9779 - loss: 0.2309  \n",
      "Epoch 85/100\n",
      "\u001b[1m3/3\u001b[0m \u001b[32m━━━━━━━━━━━━━━━━━━━━\u001b[0m\u001b[37m\u001b[0m \u001b[1m0s\u001b[0m 0s/step - accuracy: 0.9402 - loss: 0.2579  \n",
      "Epoch 86/100\n",
      "\u001b[1m3/3\u001b[0m \u001b[32m━━━━━━━━━━━━━━━━━━━━\u001b[0m\u001b[37m\u001b[0m \u001b[1m0s\u001b[0m 8ms/step - accuracy: 0.9623 - loss: 0.2104 \n",
      "Epoch 87/100\n",
      "\u001b[1m3/3\u001b[0m \u001b[32m━━━━━━━━━━━━━━━━━━━━\u001b[0m\u001b[37m\u001b[0m \u001b[1m0s\u001b[0m 0s/step - accuracy: 0.8804 - loss: 0.2931  \n",
      "Epoch 88/100\n",
      "\u001b[1m3/3\u001b[0m \u001b[32m━━━━━━━━━━━━━━━━━━━━\u001b[0m\u001b[37m\u001b[0m \u001b[1m0s\u001b[0m 0s/step - accuracy: 0.9402 - loss: 0.2674  \n",
      "Epoch 89/100\n",
      "\u001b[1m3/3\u001b[0m \u001b[32m━━━━━━━━━━━━━━━━━━━━\u001b[0m\u001b[37m\u001b[0m \u001b[1m0s\u001b[0m 5ms/step - accuracy: 0.9402 - loss: 0.2625 \n",
      "Epoch 90/100\n",
      "\u001b[1m3/3\u001b[0m \u001b[32m━━━━━━━━━━━━━━━━━━━━\u001b[0m\u001b[37m\u001b[0m \u001b[1m0s\u001b[0m 8ms/step - accuracy: 0.9558 - loss: 0.2983 \n",
      "Epoch 91/100\n",
      "\u001b[1m3/3\u001b[0m \u001b[32m━━━━━━━━━━━━━━━━━━━━\u001b[0m\u001b[37m\u001b[0m \u001b[1m0s\u001b[0m 6ms/step - accuracy: 0.8960 - loss: 0.3376 \n",
      "Epoch 92/100\n",
      "\u001b[1m3/3\u001b[0m \u001b[32m━━━━━━━━━━━━━━━━━━━━\u001b[0m\u001b[37m\u001b[0m \u001b[1m0s\u001b[0m 0s/step - accuracy: 0.9181 - loss: 0.3830  \n",
      "Epoch 93/100\n",
      "\u001b[1m3/3\u001b[0m \u001b[32m━━━━━━━━━━━━━━━━━━━━\u001b[0m\u001b[37m\u001b[0m \u001b[1m0s\u001b[0m 0s/step - accuracy: 0.9337 - loss: 0.3620  \n",
      "Epoch 94/100\n",
      "\u001b[1m3/3\u001b[0m \u001b[32m━━━━━━━━━━━━━━━━━━━━\u001b[0m\u001b[37m\u001b[0m \u001b[1m0s\u001b[0m 0s/step - accuracy: 0.9402 - loss: 0.2216  \n",
      "Epoch 95/100\n",
      "\u001b[1m3/3\u001b[0m \u001b[32m━━━━━━━━━━━━━━━━━━━━\u001b[0m\u001b[37m\u001b[0m \u001b[1m0s\u001b[0m 0s/step - accuracy: 0.9025 - loss: 0.3280  \n",
      "Epoch 96/100\n",
      "\u001b[1m3/3\u001b[0m \u001b[32m━━━━━━━━━━━━━━━━━━━━\u001b[0m\u001b[37m\u001b[0m \u001b[1m0s\u001b[0m 0s/step - accuracy: 0.9779 - loss: 0.3014  \n",
      "Epoch 97/100\n",
      "\u001b[1m3/3\u001b[0m \u001b[32m━━━━━━━━━━━━━━━━━━━━\u001b[0m\u001b[37m\u001b[0m \u001b[1m0s\u001b[0m 0s/step - accuracy: 0.9480 - loss: 0.2658  \n",
      "Epoch 98/100\n",
      "\u001b[1m3/3\u001b[0m \u001b[32m━━━━━━━━━━━━━━━━━━━━\u001b[0m\u001b[37m\u001b[0m \u001b[1m0s\u001b[0m 0s/step - accuracy: 0.9025 - loss: 0.3701  \n",
      "Epoch 99/100\n",
      "\u001b[1m3/3\u001b[0m \u001b[32m━━━━━━━━━━━━━━━━━━━━\u001b[0m\u001b[37m\u001b[0m \u001b[1m0s\u001b[0m 0s/step - accuracy: 0.9779 - loss: 0.2195  \n",
      "Epoch 100/100\n",
      "\u001b[1m3/3\u001b[0m \u001b[32m━━━━━━━━━━━━━━━━━━━━\u001b[0m\u001b[37m\u001b[0m \u001b[1m0s\u001b[0m 8ms/step - accuracy: 0.8804 - loss: 0.3533 \n"
     ]
    },
    {
     "name": "stderr",
     "output_type": "stream",
     "text": [
      "WARNING:absl:You are saving your model as an HDF5 file via `model.save()` or `keras.saving.save_model(model)`. This file format is considered legacy. We recommend using instead the native Keras format, e.g. `model.save('my_model.keras')` or `keras.saving.save_model(model, 'my_model.keras')`. \n"
     ]
    }
   ],
   "source": [
    "# Entrenamos el modelo y lo guardamos\n",
    "model.fit(np.array(train_x), np.array(train_y), epochs=100, batch_size=16, verbose=1) # Entrena el modelo con los datos de entrenamiento\n",
    "model.save(\"chatbot_model.h5\") # Guarda el modelo entrenado en un archivo \"chatbot_model.h5\""
   ]
  },
  {
   "cell_type": "code",
   "execution_count": 53,
   "id": "b6875102",
   "metadata": {},
   "outputs": [],
   "source": [
    "# Pasar las palabras de oración a su forma raíz\n",
    "def clean_up_sentence(sentence):\n",
    "    sentence_words = nltk.word_tokenize(sentence)\n",
    "    sentence_words = [lemmatizer.lemmatize(word) for word in sentence_words]\n",
    "    return sentence_words\n",
    "\n",
    "# Convertir la información a unos y ceros según si están presentes en los patrones\n",
    "def bag_of_words(sentence):\n",
    "    sentence_words = clean_up_sentence(sentence)\n",
    "    bag = [0] * len(words)\n",
    "    for w in sentence_words:\n",
    "        for i, word in enumerate(words):\n",
    "            if word == w:\n",
    "                bag[i] = 1\n",
    "    return np.array(bag)\n",
    "\n",
    "# Predecir la categoría a la que pertenece la oración\n",
    "def predict_class(sentence):\n",
    "    bow = bag_of_words(sentence)\n",
    "    res = model.predict(np.array([bow]))[0]\n",
    "    max_index = np.where(res == np.max(res))[0][0]\n",
    "    category = classes[max_index]\n",
    "    return category\n",
    "\n",
    "# Obtener una respuesta aleatoria\n",
    "def get_response(tag, intents_json):\n",
    "    list_of_intents = intents_json['intents']\n",
    "    result = \"\"\n",
    "    for i in list_of_intents:\n",
    "        if i[\"tag\"] == tag:\n",
    "            result = random.choice(i['responses'])\n",
    "            break\n",
    "    return result\n",
    "\n",
    "def respuesta(message):\n",
    "    ints = predict_class(message)\n",
    "    res = get_response(ints, intents)\n",
    "    return res\n",
    "\n",
    "# Interacción con el chatbot\n",
    "#while True:\n",
    "#    message = input(\"Tú: \")\n",
    "#    print(\"Bot:\", respuesta(message))"
   ]
  },
  {
   "cell_type": "code",
   "execution_count": 54,
   "id": "927cb65d",
   "metadata": {},
   "outputs": [],
   "source": [
    "# Código de la interfaz gráfica con Tkinter\n",
    "import tkinter as tk\n",
    "from tkinter import *"
   ]
  },
  {
   "cell_type": "code",
   "execution_count": 55,
   "id": "81d6f1c6",
   "metadata": {},
   "outputs": [
    {
     "data": {
      "text/plain": [
       "''"
      ]
     },
     "execution_count": 55,
     "metadata": {},
     "output_type": "execute_result"
    }
   ],
   "source": [
    "# Configuración de la ventana principal\n",
    "base = Tk()  # Creación de la ventana principal\n",
    "base.title(\"Bienvenido a tu asistente virtual Vetbot\")  # Título de la ventana\n",
    "base.geometry(\"400x500\")  # Tamaño de la ventana"
   ]
  },
  {
   "cell_type": "code",
   "execution_count": 56,
   "id": "0f9f0ad6",
   "metadata": {},
   "outputs": [],
   "source": [
    "# Creación de un área de texto para mostrar el chat\n",
    "ChatLog = Text(base, bd=0, bg=\"white\", height=\"8\", width=\"50\", font=\"Arial\")\n",
    "ChatLog.config(foreground=\"black\", font=(\"Verdana\", 12))\n",
    "ChatLog.insert(END, \"SALUDOS BIENVENIDO\" + '\\n\\n')  # Mensaje de bienvenida inicial\n",
    "ChatLog.place(x=6, y=6, height=386, width=370)  # Posicionamiento del área de texto en la ventana"
   ]
  },
  {
   "cell_type": "code",
   "execution_count": 57,
   "id": "044052d1",
   "metadata": {},
   "outputs": [],
   "source": [
    "# Creación de una barra de desplazamiento para navegar por el historial del chat\n",
    "scrollbar = Scrollbar(base, command=ChatLog.yview, cursor=\"heart\")\n",
    "ChatLog['yscrollcommand'] = scrollbar.set\n",
    "scrollbar.place(x=376, y=6, height=386)"
   ]
  },
  {
   "cell_type": "code",
   "execution_count": 58,
   "id": "211fa117",
   "metadata": {},
   "outputs": [],
   "source": [
    "# Bloquear el área de texto para que no se pueda editar directamente por el usuario\n",
    "ChatLog.config(state=DISABLED)"
   ]
  },
  {
   "cell_type": "code",
   "execution_count": 59,
   "id": "71191375",
   "metadata": {},
   "outputs": [],
   "source": [
    "# Creación de un cuadro de entrada de texto para que el usuario escriba sus mensajes\n",
    "EntryBox = Text(base, bd=0, bg=\"white\", width=\"29\", height=\"5\", font=\"Arial\")\n",
    "EntryBox.place(x=6, y=401, height=90, width=265)"
   ]
  },
  {
   "cell_type": "code",
   "execution_count": 60,
   "id": "e40d3fd8",
   "metadata": {},
   "outputs": [],
   "source": [
    "# Función para enviar un mensaje (se llama cuando se presiona Enter o se hace clic en el botón 'Send')\n",
    "def send(event=None):\n",
    "    msg = EntryBox.get(\"1.0\", 'end-1c').strip()  # Obtener el mensaje escrito por el usuario\n",
    "    EntryBox.delete(\"0.0\", END)  # Limpiar el cuadro de entrada después de enviar el mensaje\n",
    "\n",
    "    if msg != '':\n",
    "        ChatLog.config(state=NORMAL)  # Permitir la escritura en el área de texto\n",
    "        ChatLog.insert(END, \"You: \" + msg + '\\n\\n')  # Mostrar el mensaje del usuario en el chat\n",
    "        ChatLog.config(foreground=\"black\", font=(\"Verdana\", 12))\n",
    "\n",
    "        # Simular la respuesta del chatbot (aquí debería llamarse a una función real de chatbot)\n",
    "        res = respuesta(msg)\n",
    "        ChatLog.insert(END, \"ChatBOT: \" + res + '\\n\\n')  # Mostrar la respuesta del chatbot en el chat\n",
    "        ChatLog.config(state=DISABLED)  # Bloquear el área de texto nuevamente\n",
    "        ChatLog.yview(END)  # Desplazar hacia abajo para mostrar la respuesta más reciente"
   ]
  },
  {
   "cell_type": "code",
   "execution_count": 61,
   "id": "aa5ea6d9",
   "metadata": {},
   "outputs": [],
   "source": [
    "# Botón para enviar mensajes\n",
    "SendButton = Button(base, font=(\"Verdana\", 12, 'bold'), text=\"Send\", width=\"9\",\n",
    "                   height=5, bd=0, bg=\"blue\", activebackground=\"gold\",\n",
    "                   fg='#ffffff', command=send)\n",
    "SendButton.place(x=282, y=401, height=90)\n"
   ]
  },
  {
   "cell_type": "code",
   "execution_count": 62,
   "id": "6e563cd0",
   "metadata": {},
   "outputs": [
    {
     "data": {
      "text/plain": [
       "'1590770036224send'"
      ]
     },
     "execution_count": 62,
     "metadata": {},
     "output_type": "execute_result"
    }
   ],
   "source": [
    "# Vincular la tecla Enter para enviar mensajes\n",
    "base.bind('<Return>', send)"
   ]
  },
  {
   "cell_type": "code",
   "execution_count": 63,
   "id": "8bcbeca3",
   "metadata": {},
   "outputs": [
    {
     "name": "stdout",
     "output_type": "stream",
     "text": [
      "\u001b[1m1/1\u001b[0m \u001b[32m━━━━━━━━━━━━━━━━━━━━\u001b[0m\u001b[37m\u001b[0m \u001b[1m0s\u001b[0m 47ms/step\n",
      "\u001b[1m1/1\u001b[0m \u001b[32m━━━━━━━━━━━━━━━━━━━━\u001b[0m\u001b[37m\u001b[0m \u001b[1m0s\u001b[0m 16ms/step\n",
      "\u001b[1m1/1\u001b[0m \u001b[32m━━━━━━━━━━━━━━━━━━━━\u001b[0m\u001b[37m\u001b[0m \u001b[1m0s\u001b[0m 25ms/step\n",
      "\u001b[1m1/1\u001b[0m \u001b[32m━━━━━━━━━━━━━━━━━━━━\u001b[0m\u001b[37m\u001b[0m \u001b[1m0s\u001b[0m 32ms/step\n"
     ]
    }
   ],
   "source": [
    "# Iniciar el bucle principal de la interfaz gráfica\n",
    "base.mainloop()"
   ]
  },
  {
   "cell_type": "code",
   "execution_count": null,
   "id": "07436d76",
   "metadata": {},
   "outputs": [],
   "source": []
  }
 ],
 "metadata": {
  "kernelspec": {
   "display_name": "Python 3 (ipykernel)",
   "language": "python",
   "name": "python3"
  },
  "language_info": {
   "codemirror_mode": {
    "name": "ipython",
    "version": 3
   },
   "file_extension": ".py",
   "mimetype": "text/x-python",
   "name": "python",
   "nbconvert_exporter": "python",
   "pygments_lexer": "ipython3",
   "version": "3.11.5"
  }
 },
 "nbformat": 4,
 "nbformat_minor": 5
}
